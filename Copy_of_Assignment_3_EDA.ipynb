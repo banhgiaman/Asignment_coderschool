{
  "nbformat": 4,
  "nbformat_minor": 0,
  "metadata": {
    "colab": {
      "name": "Copy of Assignment_3_EDA.ipynb",
      "provenance": [],
      "collapsed_sections": [],
      "include_colab_link": true
    },
    "language_info": {
      "codemirror_mode": {
        "name": "ipython",
        "version": 3
      },
      "file_extension": ".py",
      "mimetype": "text/x-python",
      "name": "python",
      "nbconvert_exporter": "python",
      "pygments_lexer": "ipython3",
      "version": "3.6.5"
    },
    "kernelspec": {
      "display_name": "Python 3",
      "language": "python",
      "name": "python3"
    }
  },
  "cells": [
    {
      "cell_type": "markdown",
      "metadata": {
        "id": "view-in-github",
        "colab_type": "text"
      },
      "source": [
        "<a href=\"https://colab.research.google.com/github/banhgiaman/Assignment_CoderSchool/blob/master/Copy_of_Assignment_3_EDA.ipynb\" target=\"_parent\"><img src=\"https://colab.research.google.com/assets/colab-badge.svg\" alt=\"Open In Colab\"/></a>"
      ]
    },
    {
      "cell_type": "markdown",
      "metadata": {
        "id": "x7fdTGs4SnyS",
        "colab_type": "text"
      },
      "source": [
        "![](https://i.imgur.com/0AUxkXt.png)"
      ]
    },
    {
      "cell_type": "markdown",
      "metadata": {
        "id": "_uqy69P0Pm0L",
        "colab_type": "text"
      },
      "source": [
        "# Assignment 3 - From data to insights\n",
        "\n",
        "Before you explore the data, write down a short list of what you expect to see in the data: the distribution of key variables, the relationships between important pairs of them, and so on. Such a list is essentially a prediction based on your current understanding of the business.\n",
        "\n",
        "Now analyze the data. Make plots, do summaries, whatever is needed to see if it matches your expectations.\n",
        "\n",
        "Is there anything that doesn’t match? Anything that makes you go “That’s odd” or “That doesn’t make any sense.”?\n",
        "\n",
        "Zoom in and try to understand what in your business is making that weird thing show up in the data like that. This is the critical step.\n",
        "\n",
        "You may have just found an insight into the business and increased your understanding\n",
        "\n",
        "\n",
        "## The data analysis checklist\n",
        "\n",
        "This checklist can be used as a guide during the process of a data analysis, or as a way to evaluate the quality of a reported data analysis.\n",
        "\n",
        "### Answering the first questions\n",
        "\n",
        "1. Did you define the metric for success before beginning?\n",
        "2. Did you understand the context for the question and business application?\n",
        "3. Did you consider whether the question could be answered with the available data?\n",
        "\n",
        "### Cleaning the data\n",
        "\n",
        "1. Did you identify the missing data?\n",
        "2. Is each variable one column?\n",
        "3. Do different data types appear in each table?\n",
        "4. Did you try to identify any errors or miscoding of variables?\n",
        "5. Did you check for outliers?\n",
        "\n",
        "### Exploratory analysis\n",
        "\n",
        "1. Did you make univariate plots (histogram, distplot, boxplot)?\n",
        "2. Did you consider correlations between variables (scatterplot, jointplot, kde plot, correlation matrix)?\n",
        "3. Did you check the units of all data points to make sure they are in the right range?\n",
        "\n",
        "### Presentations\n",
        "\n",
        "1. Did you lead with a brief, understandable to everyone of your problem?\n",
        "2. Did you explain the data, describe the question of interest?\n",
        "3. Did you make sure all legends and axes were legible from the back of the room?"
      ]
    },
    {
      "cell_type": "markdown",
      "metadata": {
        "id": "ZBc0glanPm0M",
        "colab_type": "text"
      },
      "source": [
        "## Dataset - Online Retailes Purchase\n",
        "\n",
        "Typically e-commerce datasets are proprietary and consequently hard to find among publicly available data. However, [The UCI Machine Learning Repository](http://archive.ics.uci.edu/ml/index.php) has made this dataset containing actual transactions from 2010 and 2011. The dataset is maintained on their site, where it can be found by the title \"Online Retail\".\n",
        "\n",
        "\n",
        "### Step 1 - Checking the data\n",
        "\n",
        "**Import tools set**"
      ]
    },
    {
      "cell_type": "code",
      "metadata": {
        "id": "9Cx3LXxfPm0N",
        "colab_type": "code",
        "colab": {}
      },
      "source": [
        "# Your code here\n",
        "import numpy as np\n",
        "import pandas as pd\n",
        "import seaborn as sns\n",
        "import matplotlib.pyplot as plt\n",
        "%matplotlib inline\n",
        "import warnings\n",
        "warnings.filterwarnings('ignore')\n",
        "\n",
        "sns.set_style(\"whitegrid\")"
      ],
      "execution_count": 0,
      "outputs": []
    },
    {
      "cell_type": "markdown",
      "metadata": {
        "id": "mFTQu0j6Pm0Q",
        "colab_type": "text"
      },
      "source": [
        "**Import data**"
      ]
    },
    {
      "cell_type": "code",
      "metadata": {
        "id": "w0YVchrVPm0R",
        "colab_type": "code",
        "colab": {}
      },
      "source": [
        "# link = \"https://ml101-khanhnguyen.s3-ap-southeast-1.amazonaws.com/devc/Online_Retail.csv\"\n",
        "# Note: set param encoding = 'latin1'\n",
        "# Your code here\n",
        "OnlRetail = pd.read_csv(\"https://ml101-khanhnguyen.s3-ap-southeast-1.amazonaws.com/devc/Online_Retail.csv\", encoding='latin1')"
      ],
      "execution_count": 0,
      "outputs": []
    },
    {
      "cell_type": "code",
      "metadata": {
        "id": "V3v8D3pTFrYh",
        "colab_type": "code",
        "outputId": "007b9925-8699-4b03-b304-bb42e35eb42e",
        "colab": {
          "base_uri": "https://localhost:8080/",
          "height": 195
        }
      },
      "source": [
        "# Print out First 5 rows from dataframe\n",
        "# Your code here\n",
        "OnlRetail.head(5)"
      ],
      "execution_count": 3,
      "outputs": [
        {
          "output_type": "execute_result",
          "data": {
            "text/html": [
              "<div>\n",
              "<style scoped>\n",
              "    .dataframe tbody tr th:only-of-type {\n",
              "        vertical-align: middle;\n",
              "    }\n",
              "\n",
              "    .dataframe tbody tr th {\n",
              "        vertical-align: top;\n",
              "    }\n",
              "\n",
              "    .dataframe thead th {\n",
              "        text-align: right;\n",
              "    }\n",
              "</style>\n",
              "<table border=\"1\" class=\"dataframe\">\n",
              "  <thead>\n",
              "    <tr style=\"text-align: right;\">\n",
              "      <th></th>\n",
              "      <th>InvoiceNo</th>\n",
              "      <th>StockCode</th>\n",
              "      <th>Description</th>\n",
              "      <th>Quantity</th>\n",
              "      <th>InvoiceDate</th>\n",
              "      <th>UnitPrice</th>\n",
              "      <th>CustomerID</th>\n",
              "      <th>Country</th>\n",
              "    </tr>\n",
              "  </thead>\n",
              "  <tbody>\n",
              "    <tr>\n",
              "      <th>0</th>\n",
              "      <td>536365</td>\n",
              "      <td>85123A</td>\n",
              "      <td>WHITE HANGING HEART T-LIGHT HOLDER</td>\n",
              "      <td>6</td>\n",
              "      <td>12/1/10 8:26</td>\n",
              "      <td>2.55</td>\n",
              "      <td>17850.0</td>\n",
              "      <td>United Kingdom</td>\n",
              "    </tr>\n",
              "    <tr>\n",
              "      <th>1</th>\n",
              "      <td>536365</td>\n",
              "      <td>71053</td>\n",
              "      <td>WHITE METAL LANTERN</td>\n",
              "      <td>6</td>\n",
              "      <td>12/1/10 8:26</td>\n",
              "      <td>3.39</td>\n",
              "      <td>17850.0</td>\n",
              "      <td>United Kingdom</td>\n",
              "    </tr>\n",
              "    <tr>\n",
              "      <th>2</th>\n",
              "      <td>536365</td>\n",
              "      <td>84406B</td>\n",
              "      <td>CREAM CUPID HEARTS COAT HANGER</td>\n",
              "      <td>8</td>\n",
              "      <td>12/1/10 8:26</td>\n",
              "      <td>2.75</td>\n",
              "      <td>17850.0</td>\n",
              "      <td>United Kingdom</td>\n",
              "    </tr>\n",
              "    <tr>\n",
              "      <th>3</th>\n",
              "      <td>536365</td>\n",
              "      <td>84029G</td>\n",
              "      <td>KNITTED UNION FLAG HOT WATER BOTTLE</td>\n",
              "      <td>6</td>\n",
              "      <td>12/1/10 8:26</td>\n",
              "      <td>3.39</td>\n",
              "      <td>17850.0</td>\n",
              "      <td>United Kingdom</td>\n",
              "    </tr>\n",
              "    <tr>\n",
              "      <th>4</th>\n",
              "      <td>536365</td>\n",
              "      <td>84029E</td>\n",
              "      <td>RED WOOLLY HOTTIE WHITE HEART.</td>\n",
              "      <td>6</td>\n",
              "      <td>12/1/10 8:26</td>\n",
              "      <td>3.39</td>\n",
              "      <td>17850.0</td>\n",
              "      <td>United Kingdom</td>\n",
              "    </tr>\n",
              "  </tbody>\n",
              "</table>\n",
              "</div>"
            ],
            "text/plain": [
              "  InvoiceNo StockCode  ... CustomerID         Country\n",
              "0    536365    85123A  ...    17850.0  United Kingdom\n",
              "1    536365     71053  ...    17850.0  United Kingdom\n",
              "2    536365    84406B  ...    17850.0  United Kingdom\n",
              "3    536365    84029G  ...    17850.0  United Kingdom\n",
              "4    536365    84029E  ...    17850.0  United Kingdom\n",
              "\n",
              "[5 rows x 8 columns]"
            ]
          },
          "metadata": {
            "tags": []
          },
          "execution_count": 3
        }
      ]
    },
    {
      "cell_type": "code",
      "metadata": {
        "id": "u4Msf54uFy4w",
        "colab_type": "code",
        "outputId": "4699bde6-bcc6-404f-9e56-039afa6681a3",
        "colab": {
          "base_uri": "https://localhost:8080/",
          "height": 235
        }
      },
      "source": [
        "# Print out brief info\n",
        "OnlRetail.info()"
      ],
      "execution_count": 4,
      "outputs": [
        {
          "output_type": "stream",
          "text": [
            "<class 'pandas.core.frame.DataFrame'>\n",
            "RangeIndex: 541909 entries, 0 to 541908\n",
            "Data columns (total 8 columns):\n",
            "InvoiceNo      541909 non-null object\n",
            "StockCode      541909 non-null object\n",
            "Description    540455 non-null object\n",
            "Quantity       541909 non-null int64\n",
            "InvoiceDate    541909 non-null object\n",
            "UnitPrice      541909 non-null float64\n",
            "CustomerID     406829 non-null float64\n",
            "Country        541909 non-null object\n",
            "dtypes: float64(2), int64(1), object(5)\n",
            "memory usage: 33.1+ MB\n"
          ],
          "name": "stdout"
        }
      ]
    },
    {
      "cell_type": "markdown",
      "metadata": {
        "id": "wY6yv3UsPm0k",
        "colab_type": "text"
      },
      "source": [
        "### Step 2 - Cleaning the data\n",
        "\n",
        "Few of useful data cleaning functions:\n",
        "\n",
        "* `s.astype('category')` # This will convert the datatype of the series to float *Please note that \"s\" here is a Pandas Series\n",
        "\n",
        "* `s.replace(1,'one')` # This will replace all values equal to 1 with 'one'\n",
        "\n",
        "* `s.replace([1,3],['one','three'])` # This will replace all 1 with 'one' and 3 with 'three'\n",
        "\n",
        "* `data.rename(columns=lambda x: x + 1)` # Mass renaming of columns\n",
        "\n",
        "* `data.rename(columns={'oldname': 'new name'})` # Selective renaming\n",
        "\n",
        "* `data.set_index('column_one')` #  This will change the index\n",
        "\n",
        "* `data.rename(index=lambda x: x + 1)` # Mass renaming of index\n",
        "\n",
        "* `data.dropna()` # Remove missing values\n",
        "\n",
        "* `data.fillna(x)` #  This will replaces all null values with x\n",
        "\n",
        "* `s.fillna(s.mean())` # This will replace all null values with the mean (mean can be replaced with almost any function from the below section) :\n",
        "\n",
        "* `data.corr()` # This will return the correlation between columns in a DataFrame\n",
        "\n",
        "* `data.count()` # This will return the number of non-null values in each DataFrame column\n",
        "\n",
        "* `data.max()` # This will return the highest value in each column\n",
        "\n",
        "* `data.min()` # This will return the lowest value in each column\n",
        "\n",
        "* `data.median()` # This will return the median of each column\n",
        "\n",
        "* `data.std()` # This will returns the standard deviation of each column\n"
      ]
    },
    {
      "cell_type": "markdown",
      "metadata": {
        "id": "rcNsGWarPm06",
        "colab_type": "text"
      },
      "source": [
        "**Check for NaN values**"
      ]
    },
    {
      "cell_type": "code",
      "metadata": {
        "id": "TqLxHGy2Pm06",
        "colab_type": "code",
        "outputId": "f9f7e629-7af1-4775-b2be-9847df4de46c",
        "colab": {
          "base_uri": "https://localhost:8080/",
          "height": 168
        }
      },
      "source": [
        "# Your code here\n",
        "OnlRetail.isna().sum()"
      ],
      "execution_count": 5,
      "outputs": [
        {
          "output_type": "execute_result",
          "data": {
            "text/plain": [
              "InvoiceNo           0\n",
              "StockCode           0\n",
              "Description      1454\n",
              "Quantity            0\n",
              "InvoiceDate         0\n",
              "UnitPrice           0\n",
              "CustomerID     135080\n",
              "Country             0\n",
              "dtype: int64"
            ]
          },
          "metadata": {
            "tags": []
          },
          "execution_count": 5
        }
      ]
    },
    {
      "cell_type": "markdown",
      "metadata": {
        "id": "RdhPk_x1Pm0-",
        "colab_type": "text"
      },
      "source": [
        "**Examine few examples of NaN values**"
      ]
    },
    {
      "cell_type": "code",
      "metadata": {
        "id": "3kGYpbdOPm0-",
        "colab_type": "code",
        "outputId": "994b456a-029e-495b-8f45-c646ef34da81",
        "colab": {
          "base_uri": "https://localhost:8080/",
          "height": 195
        }
      },
      "source": [
        "# List all NaN values\n",
        "OnlRetail[(OnlRetail['Description'].isnull()) | (OnlRetail['CustomerID'].isnull())].head(5)"
      ],
      "execution_count": 6,
      "outputs": [
        {
          "output_type": "execute_result",
          "data": {
            "text/html": [
              "<div>\n",
              "<style scoped>\n",
              "    .dataframe tbody tr th:only-of-type {\n",
              "        vertical-align: middle;\n",
              "    }\n",
              "\n",
              "    .dataframe tbody tr th {\n",
              "        vertical-align: top;\n",
              "    }\n",
              "\n",
              "    .dataframe thead th {\n",
              "        text-align: right;\n",
              "    }\n",
              "</style>\n",
              "<table border=\"1\" class=\"dataframe\">\n",
              "  <thead>\n",
              "    <tr style=\"text-align: right;\">\n",
              "      <th></th>\n",
              "      <th>InvoiceNo</th>\n",
              "      <th>StockCode</th>\n",
              "      <th>Description</th>\n",
              "      <th>Quantity</th>\n",
              "      <th>InvoiceDate</th>\n",
              "      <th>UnitPrice</th>\n",
              "      <th>CustomerID</th>\n",
              "      <th>Country</th>\n",
              "    </tr>\n",
              "  </thead>\n",
              "  <tbody>\n",
              "    <tr>\n",
              "      <th>622</th>\n",
              "      <td>536414</td>\n",
              "      <td>22139</td>\n",
              "      <td>NaN</td>\n",
              "      <td>56</td>\n",
              "      <td>12/1/10 11:52</td>\n",
              "      <td>0.00</td>\n",
              "      <td>NaN</td>\n",
              "      <td>United Kingdom</td>\n",
              "    </tr>\n",
              "    <tr>\n",
              "      <th>1443</th>\n",
              "      <td>536544</td>\n",
              "      <td>21773</td>\n",
              "      <td>DECORATIVE ROSE BATHROOM BOTTLE</td>\n",
              "      <td>1</td>\n",
              "      <td>12/1/10 14:32</td>\n",
              "      <td>2.51</td>\n",
              "      <td>NaN</td>\n",
              "      <td>United Kingdom</td>\n",
              "    </tr>\n",
              "    <tr>\n",
              "      <th>1444</th>\n",
              "      <td>536544</td>\n",
              "      <td>21774</td>\n",
              "      <td>DECORATIVE CATS BATHROOM BOTTLE</td>\n",
              "      <td>2</td>\n",
              "      <td>12/1/10 14:32</td>\n",
              "      <td>2.51</td>\n",
              "      <td>NaN</td>\n",
              "      <td>United Kingdom</td>\n",
              "    </tr>\n",
              "    <tr>\n",
              "      <th>1445</th>\n",
              "      <td>536544</td>\n",
              "      <td>21786</td>\n",
              "      <td>POLKADOT RAIN HAT</td>\n",
              "      <td>4</td>\n",
              "      <td>12/1/10 14:32</td>\n",
              "      <td>0.85</td>\n",
              "      <td>NaN</td>\n",
              "      <td>United Kingdom</td>\n",
              "    </tr>\n",
              "    <tr>\n",
              "      <th>1446</th>\n",
              "      <td>536544</td>\n",
              "      <td>21787</td>\n",
              "      <td>RAIN PONCHO RETROSPOT</td>\n",
              "      <td>2</td>\n",
              "      <td>12/1/10 14:32</td>\n",
              "      <td>1.66</td>\n",
              "      <td>NaN</td>\n",
              "      <td>United Kingdom</td>\n",
              "    </tr>\n",
              "  </tbody>\n",
              "</table>\n",
              "</div>"
            ],
            "text/plain": [
              "     InvoiceNo StockCode  ... CustomerID         Country\n",
              "622     536414     22139  ...        NaN  United Kingdom\n",
              "1443    536544     21773  ...        NaN  United Kingdom\n",
              "1444    536544     21774  ...        NaN  United Kingdom\n",
              "1445    536544     21786  ...        NaN  United Kingdom\n",
              "1446    536544     21787  ...        NaN  United Kingdom\n",
              "\n",
              "[5 rows x 8 columns]"
            ]
          },
          "metadata": {
            "tags": []
          },
          "execution_count": 6
        }
      ]
    },
    {
      "cell_type": "markdown",
      "metadata": {
        "id": "OpAhltPeHaLR",
        "colab_type": "text"
      },
      "source": [
        "**Exclude negative Quatity entries**"
      ]
    },
    {
      "cell_type": "code",
      "metadata": {
        "id": "71F-5PY-HZ6T",
        "colab_type": "code",
        "colab": {}
      },
      "source": [
        "OnlRetail.drop(labels = OnlRetail[OnlRetail['Quantity'] < 0].index.values, axis = 0, inplace = True)"
      ],
      "execution_count": 0,
      "outputs": []
    },
    {
      "cell_type": "code",
      "metadata": {
        "id": "00nB-dkqUoVJ",
        "colab_type": "code",
        "outputId": "16482b8d-48f8-4960-b747-11f32a72ba8a",
        "colab": {
          "base_uri": "https://localhost:8080/",
          "height": 47
        }
      },
      "source": [
        "OnlRetail[OnlRetail['Quantity'] < 0]"
      ],
      "execution_count": 8,
      "outputs": [
        {
          "output_type": "execute_result",
          "data": {
            "text/html": [
              "<div>\n",
              "<style scoped>\n",
              "    .dataframe tbody tr th:only-of-type {\n",
              "        vertical-align: middle;\n",
              "    }\n",
              "\n",
              "    .dataframe tbody tr th {\n",
              "        vertical-align: top;\n",
              "    }\n",
              "\n",
              "    .dataframe thead th {\n",
              "        text-align: right;\n",
              "    }\n",
              "</style>\n",
              "<table border=\"1\" class=\"dataframe\">\n",
              "  <thead>\n",
              "    <tr style=\"text-align: right;\">\n",
              "      <th></th>\n",
              "      <th>InvoiceNo</th>\n",
              "      <th>StockCode</th>\n",
              "      <th>Description</th>\n",
              "      <th>Quantity</th>\n",
              "      <th>InvoiceDate</th>\n",
              "      <th>UnitPrice</th>\n",
              "      <th>CustomerID</th>\n",
              "      <th>Country</th>\n",
              "    </tr>\n",
              "  </thead>\n",
              "  <tbody>\n",
              "  </tbody>\n",
              "</table>\n",
              "</div>"
            ],
            "text/plain": [
              "Empty DataFrame\n",
              "Columns: [InvoiceNo, StockCode, Description, Quantity, InvoiceDate, UnitPrice, CustomerID, Country]\n",
              "Index: []"
            ]
          },
          "metadata": {
            "tags": []
          },
          "execution_count": 8
        }
      ]
    },
    {
      "cell_type": "markdown",
      "metadata": {
        "id": "s5idc5z2H1zJ",
        "colab_type": "text"
      },
      "source": [
        "**Exclude negative Price entries**"
      ]
    },
    {
      "cell_type": "code",
      "metadata": {
        "id": "_8OdtEVFH1fr",
        "colab_type": "code",
        "colab": {}
      },
      "source": [
        "OnlRetail.drop(labels = OnlRetail[OnlRetail['UnitPrice'] <= 0].index.values, axis = 0, inplace = True)"
      ],
      "execution_count": 0,
      "outputs": []
    },
    {
      "cell_type": "code",
      "metadata": {
        "id": "aEs4zBj_V_wa",
        "colab_type": "code",
        "colab": {}
      },
      "source": [
        "OnlRetail.drop(labels = OnlRetail[OnlRetail['CustomerID'].isnull()].index.values, axis = 0, inplace = True)"
      ],
      "execution_count": 0,
      "outputs": []
    },
    {
      "cell_type": "code",
      "metadata": {
        "id": "dvbW6m9mVGHP",
        "colab_type": "code",
        "outputId": "561cdea8-d715-491d-b483-d98156beb28d",
        "colab": {
          "base_uri": "https://localhost:8080/",
          "height": 168
        }
      },
      "source": [
        "OnlRetail.isna().sum()"
      ],
      "execution_count": 11,
      "outputs": [
        {
          "output_type": "execute_result",
          "data": {
            "text/plain": [
              "InvoiceNo      0\n",
              "StockCode      0\n",
              "Description    0\n",
              "Quantity       0\n",
              "InvoiceDate    0\n",
              "UnitPrice      0\n",
              "CustomerID     0\n",
              "Country        0\n",
              "dtype: int64"
            ]
          },
          "metadata": {
            "tags": []
          },
          "execution_count": 11
        }
      ]
    },
    {
      "cell_type": "code",
      "metadata": {
        "id": "KmKU5-D3WXl6",
        "colab_type": "code",
        "outputId": "b8e05691-970a-4941-a375-25efc72a949b",
        "colab": {
          "base_uri": "https://localhost:8080/",
          "height": 235
        }
      },
      "source": [
        "OnlRetail.info()"
      ],
      "execution_count": 12,
      "outputs": [
        {
          "output_type": "stream",
          "text": [
            "<class 'pandas.core.frame.DataFrame'>\n",
            "Int64Index: 397884 entries, 0 to 541908\n",
            "Data columns (total 8 columns):\n",
            "InvoiceNo      397884 non-null object\n",
            "StockCode      397884 non-null object\n",
            "Description    397884 non-null object\n",
            "Quantity       397884 non-null int64\n",
            "InvoiceDate    397884 non-null object\n",
            "UnitPrice      397884 non-null float64\n",
            "CustomerID     397884 non-null float64\n",
            "Country        397884 non-null object\n",
            "dtypes: float64(2), int64(1), object(5)\n",
            "memory usage: 27.3+ MB\n"
          ],
          "name": "stdout"
        }
      ]
    },
    {
      "cell_type": "markdown",
      "metadata": {
        "id": "Ikd1t-v3Pm17",
        "colab_type": "text"
      },
      "source": [
        "### Step 3 - EDA"
      ]
    },
    {
      "cell_type": "markdown",
      "metadata": {
        "id": "-T3iojz1If_r",
        "colab_type": "text"
      },
      "source": [
        "**The customer with the highest number of orders comes from the United Kingdom (UK)**"
      ]
    },
    {
      "cell_type": "code",
      "metadata": {
        "id": "qIUoWtlPIhxJ",
        "colab_type": "code",
        "outputId": "4540c84a-ed2b-4f30-b9b2-9bbe34fbb761",
        "colab": {
          "base_uri": "https://localhost:8080/",
          "height": 50
        }
      },
      "source": [
        "# Your code here\n",
        "retail1 = OnlRetail[OnlRetail['Country'] == 'United Kingdom']\n",
        "OnlRetail['CustomerID'].value_counts().head(1)"
      ],
      "execution_count": 13,
      "outputs": [
        {
          "output_type": "execute_result",
          "data": {
            "text/plain": [
              "17841.0    7847\n",
              "Name: CustomerID, dtype: int64"
            ]
          },
          "metadata": {
            "tags": []
          },
          "execution_count": 13
        }
      ]
    },
    {
      "cell_type": "markdown",
      "metadata": {
        "id": "9yUfXWelIiTg",
        "colab_type": "text"
      },
      "source": [
        "**The customer with the highest money spent on purchases comes from Netherlands**"
      ]
    },
    {
      "cell_type": "code",
      "metadata": {
        "id": "CSqiXTfTJpv1",
        "colab_type": "code",
        "colab": {}
      },
      "source": [
        "def paid_calculate(row):\n",
        "  return row['Quantity'] * row['UnitPrice']"
      ],
      "execution_count": 0,
      "outputs": []
    },
    {
      "cell_type": "code",
      "metadata": {
        "id": "qCN_rIThJDRj",
        "colab_type": "code",
        "outputId": "eb3637aa-5e84-49cc-b01d-e4390e185366",
        "colab": {
          "base_uri": "https://localhost:8080/",
          "height": 106
        }
      },
      "source": [
        "# Your code here\n",
        "retail2 = OnlRetail[OnlRetail['Country'] == 'Netherlands']\n",
        "retail2['Paid'] = retail2.apply(paid_calculate, axis = 1)\n",
        "retail2.groupby('Paid').sum().tail(1)"
      ],
      "execution_count": 15,
      "outputs": [
        {
          "output_type": "execute_result",
          "data": {
            "text/html": [
              "<div>\n",
              "<style scoped>\n",
              "    .dataframe tbody tr th:only-of-type {\n",
              "        vertical-align: middle;\n",
              "    }\n",
              "\n",
              "    .dataframe tbody tr th {\n",
              "        vertical-align: top;\n",
              "    }\n",
              "\n",
              "    .dataframe thead th {\n",
              "        text-align: right;\n",
              "    }\n",
              "</style>\n",
              "<table border=\"1\" class=\"dataframe\">\n",
              "  <thead>\n",
              "    <tr style=\"text-align: right;\">\n",
              "      <th></th>\n",
              "      <th>Quantity</th>\n",
              "      <th>UnitPrice</th>\n",
              "      <th>CustomerID</th>\n",
              "    </tr>\n",
              "    <tr>\n",
              "      <th>Paid</th>\n",
              "      <th></th>\n",
              "      <th></th>\n",
              "      <th></th>\n",
              "    </tr>\n",
              "  </thead>\n",
              "  <tbody>\n",
              "    <tr>\n",
              "      <th>4992.0</th>\n",
              "      <td>2400</td>\n",
              "      <td>2.08</td>\n",
              "      <td>14646.0</td>\n",
              "    </tr>\n",
              "  </tbody>\n",
              "</table>\n",
              "</div>"
            ],
            "text/plain": [
              "        Quantity  UnitPrice  CustomerID\n",
              "Paid                                   \n",
              "4992.0      2400       2.08     14646.0"
            ]
          },
          "metadata": {
            "tags": []
          },
          "execution_count": 15
        }
      ]
    },
    {
      "cell_type": "markdown",
      "metadata": {
        "id": "UcCxS85hIwLb",
        "colab_type": "text"
      },
      "source": [
        "**On which year had the highest sales?**"
      ]
    },
    {
      "cell_type": "code",
      "metadata": {
        "id": "LMLpOsUfaaVu",
        "colab_type": "code",
        "colab": {}
      },
      "source": [
        "import re"
      ],
      "execution_count": 0,
      "outputs": []
    },
    {
      "cell_type": "code",
      "metadata": {
        "id": "i-7RsisUI_gc",
        "colab_type": "code",
        "colab": {}
      },
      "source": [
        "# Your code here\n",
        "def year_set(x):\n",
        "  tam = x.split()\n",
        "  if re.search('/10$', tam[0]):\n",
        "    return 2010\n",
        "  elif re.search('/11$', tam[0]):\n",
        "    return 2011"
      ],
      "execution_count": 0,
      "outputs": []
    },
    {
      "cell_type": "code",
      "metadata": {
        "id": "nixq5ocSazZe",
        "colab_type": "code",
        "outputId": "5aac2e7e-3836-4907-cb6e-be55bc2ccf2e",
        "colab": {
          "base_uri": "https://localhost:8080/",
          "height": 34
        }
      },
      "source": [
        "OnlRetail['Year'] = OnlRetail['InvoiceDate'].apply(year_set)\n",
        "OnlRetail['Paid'] = OnlRetail.apply(paid_calculate, axis = 1)\n",
        "retail3 = OnlRetail[['Year', 'Paid']].groupby('Year').sum()\n",
        "retail3[retail3['Paid'] == max(retail3['Paid'])].index.values"
      ],
      "execution_count": 18,
      "outputs": [
        {
          "output_type": "execute_result",
          "data": {
            "text/plain": [
              "array([2011])"
            ]
          },
          "metadata": {
            "tags": []
          },
          "execution_count": 18
        }
      ]
    },
    {
      "cell_type": "markdown",
      "metadata": {
        "id": "W-IKvzruKHXb",
        "colab_type": "text"
      },
      "source": [
        "**How many orders (per hour)?**"
      ]
    },
    {
      "cell_type": "code",
      "metadata": {
        "id": "RHS5ridWKQ4u",
        "colab_type": "code",
        "colab": {}
      },
      "source": [
        ""
      ],
      "execution_count": 0,
      "outputs": []
    },
    {
      "cell_type": "markdown",
      "metadata": {
        "id": "dqCZUmx0KKfS",
        "colab_type": "text"
      },
      "source": [
        "**Make a plot about number of orders per hour**"
      ]
    },
    {
      "cell_type": "code",
      "metadata": {
        "id": "-KPgD51AKKE6",
        "colab_type": "code",
        "colab": {}
      },
      "source": [
        ""
      ],
      "execution_count": 0,
      "outputs": []
    },
    {
      "cell_type": "markdown",
      "metadata": {
        "colab_type": "text",
        "id": "-8ZwTvS6L0vS"
      },
      "source": [
        "**How many orders (per month)?**"
      ]
    },
    {
      "cell_type": "code",
      "metadata": {
        "colab_type": "code",
        "id": "NeOp_6a3L0vX",
        "colab": {}
      },
      "source": [
        ""
      ],
      "execution_count": 0,
      "outputs": []
    },
    {
      "cell_type": "markdown",
      "metadata": {
        "colab_type": "text",
        "id": "sOYrMUczL0vb"
      },
      "source": [
        "**Make a plot about number of orders per month**"
      ]
    },
    {
      "cell_type": "code",
      "metadata": {
        "id": "e7RJQ5MbL4cY",
        "colab_type": "code",
        "colab": {
          "base_uri": "https://localhost:8080/",
          "height": 101
        },
        "outputId": "d1935b1f-44a1-478a-a2de-e39d953655b2"
      },
      "source": [
        "OnlRetail['Description'] = OnlRetail['Description'].str.strip()\n",
        "OnlRetail['Description'].unique()"
      ],
      "execution_count": 79,
      "outputs": [
        {
          "output_type": "execute_result",
          "data": {
            "text/plain": [
              "array(['WHITE HANGING HEART T-LIGHT HOLDER', 'WHITE METAL LANTERN',\n",
              "       'CREAM CUPID HEARTS COAT HANGER', ...,\n",
              "       'PINK CRYSTAL SKULL PHONE CHARM',\n",
              "       'CREAM HANGING HEART T-LIGHT HOLDER',\n",
              "       'PAPER CRAFT , LITTLE BIRDIE'], dtype=object)"
            ]
          },
          "metadata": {
            "tags": []
          },
          "execution_count": 79
        }
      ]
    },
    {
      "cell_type": "markdown",
      "metadata": {
        "id": "E3eeyQeBLd6e",
        "colab_type": "text"
      },
      "source": [
        "**Top 10 items most sales**"
      ]
    },
    {
      "cell_type": "code",
      "metadata": {
        "id": "4trjB9ZjLhEv",
        "colab_type": "code",
        "colab": {
          "base_uri": "https://localhost:8080/",
          "height": 269
        },
        "outputId": "9911d314-85bb-4572-a70b-c06e5975f9f8"
      },
      "source": [
        "OnlRetail['Description'].value_counts().head(10).plot(kind=\"barh\");"
      ],
      "execution_count": 112,
      "outputs": [
        {
          "output_type": "display_data",
          "data": {
            "image/png": "[encoded data removed]",
            "text/plain": [
              "<Figure size 432x288 with 1 Axes>"
            ]
          },
          "metadata": {
            "tags": []
          }
        }
      ]
    },
    {
      "cell_type": "markdown",
      "metadata": {
        "id": "ggak_TMtLh5o",
        "colab_type": "text"
      },
      "source": [
        ""
      ]
    },
    {
      "cell_type": "markdown",
      "metadata": {
        "id": "-dEBLw1uPm1-",
        "colab_type": "text"
      },
      "source": [
        "**Create a histogram with the 10 countries that have the most 'Quantity' ordered except UK**"
      ]
    },
    {
      "cell_type": "code",
      "metadata": {
        "id": "_N-UF331Pm1-",
        "colab_type": "code",
        "colab": {
          "base_uri": "https://localhost:8080/",
          "height": 269
        },
        "outputId": "8236cd1a-4689-45ff-f2b6-8494523227f7"
      },
      "source": [
        "# Your code here\n",
        "retail4 = OnlRetail[OnlRetail['Country'] != \"United Kingdom\"]\n",
        "retail5 = retail4.groupby(\"Country\").sum()\n",
        "retail5.sort_values(by=\"Quantity\", ascending=False, inplace=True)\n",
        "retail5 = retail5.head(10)\n",
        "plt.hist(retail5['Quantity'], bins=5);\n",
        "# What can you tell about this?\n",
        "# The highest quantity is around 200000\n",
        "# The highest rate of quantity in top 10 around 25000-50000"
      ],
      "execution_count": 115,
      "outputs": [
        {
          "output_type": "display_data",
          "data": {
            "image/png": "[encoded data removed]",
            "text/plain": [
              "<Figure size 432x288 with 1 Axes>"
            ]
          },
          "metadata": {
            "tags": []
          }
        }
      ]
    },
    {
      "cell_type": "markdown",
      "metadata": {
        "id": "MoBgPjDiwhdV",
        "colab_type": "text"
      },
      "source": [
        "### You are awesome!!"
      ]
    }
  ]
}